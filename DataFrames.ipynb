{
  "nbformat": 4,
  "nbformat_minor": 0,
  "metadata": {
    "kernelspec": {
      "display_name": "Python 3",
      "language": "python",
      "name": "python3"
    },
    "language_info": {
      "codemirror_mode": {
        "name": "ipython",
        "version": 3
      },
      "file_extension": ".py",
      "mimetype": "text/x-python",
      "name": "python",
      "nbconvert_exporter": "python",
      "pygments_lexer": "ipython3",
      "version": "3.7.2"
    },
    "colab": {
      "name": "DataFrames.ipynb",
      "version": "0.3.2",
      "provenance": []
    }
  },
  "cells": [
    {
      "cell_type": "code",
      "metadata": {
        "id": "qO7KZPUwyvuw",
        "colab_type": "code",
        "colab": {}
      },
      "source": [
        "%matplotlib inline"
      ],
      "execution_count": 0,
      "outputs": []
    },
    {
      "cell_type": "code",
      "metadata": {
        "id": "nqvCnAqyy-VV",
        "colab_type": "code",
        "colab": {
          "base_uri": "https://localhost:8080/",
          "height": 119
        },
        "outputId": "5ca162bc-93a1-4b3c-bf02-2e724acdc662"
      },
      "source": [
        "!git clone https://github.com/nickdelgrosso/amgen_workshop2019.git"
      ],
      "execution_count": 1,
      "outputs": [
        {
          "output_type": "stream",
          "text": [
            "Cloning into 'amgen_workshop2019'...\n",
            "remote: Enumerating objects: 8, done.\u001b[K\n",
            "remote: Counting objects: 100% (8/8), done.\u001b[K\n",
            "remote: Compressing objects: 100% (8/8), done.\u001b[K\n",
            "remote: Total 8 (delta 1), reused 0 (delta 0), pack-reused 0\u001b[K\n",
            "Unpacking objects: 100% (8/8), done.\n"
          ],
          "name": "stdout"
        }
      ]
    },
    {
      "cell_type": "markdown",
      "metadata": {
        "id": "s2ikXkKmyvu1",
        "colab_type": "text"
      },
      "source": [
        "# Pandas and DataFrames\n",
        "\n",
        "Often, we have tables of data--collections of named columns arranged in rows.  The **Pandas** package gives us a **DataFrame()** class that lets us index these columns the same way as with dicts, while still getting the benefit of Numpy arrays, meaning we can still write vectorized code.  \n",
        "\n",
        "Let's start playing with the analysis now.  We'll examine Pandas in more depth in the coming days."
      ]
    },
    {
      "cell_type": "code",
      "metadata": {
        "id": "UmyR9CjEyvu2",
        "colab_type": "code",
        "colab": {}
      },
      "source": [
        "import pandas as pd"
      ],
      "execution_count": 0,
      "outputs": []
    },
    {
      "cell_type": "markdown",
      "metadata": {
        "id": "fK0WimOUyvu4",
        "colab_type": "text"
      },
      "source": [
        "Please open the file “MentalRotation.csv” (pd.read_csv()) and use it to answer the following questions about the results of the Mental Rotation psychology experiment. If you reach the end of the exercises, explore the dataset and DataFrames more and see what you can find about this experiment!"
      ]
    },
    {
      "cell_type": "code",
      "metadata": {
        "id": "c2WmwO7cyvu4",
        "colab_type": "code",
        "colab": {}
      },
      "source": [
        ""
      ],
      "execution_count": 0,
      "outputs": []
    },
    {
      "cell_type": "markdown",
      "metadata": {
        "id": "P4ze7rFlyvu6",
        "colab_type": "text"
      },
      "source": [
        "## Examining the Dataset\n",
        "\n",
        "**head()**, **tail()**, **sample()**"
      ]
    },
    {
      "cell_type": "markdown",
      "metadata": {
        "id": "eL9wi5hKyvu7",
        "colab_type": "text"
      },
      "source": [
        "Look at the first 5 lines of the dataset"
      ]
    },
    {
      "cell_type": "code",
      "metadata": {
        "id": "MojqZrizyvu7",
        "colab_type": "code",
        "colab": {}
      },
      "source": [
        ""
      ],
      "execution_count": 0,
      "outputs": []
    },
    {
      "cell_type": "markdown",
      "metadata": {
        "id": "TSOYU41Eyvu9",
        "colab_type": "text"
      },
      "source": [
        "Look at the last 5 lines of the dataset"
      ]
    },
    {
      "cell_type": "code",
      "metadata": {
        "id": "FUqxohswyvu9",
        "colab_type": "code",
        "colab": {}
      },
      "source": [
        ""
      ],
      "execution_count": 0,
      "outputs": []
    },
    {
      "cell_type": "markdown",
      "metadata": {
        "id": "Wy3ifRdFyvu_",
        "colab_type": "text"
      },
      "source": [
        "Check 3 random lines in the dataset."
      ]
    },
    {
      "cell_type": "code",
      "metadata": {
        "id": "jnW93xZRyvvA",
        "colab_type": "code",
        "colab": {}
      },
      "source": [
        ""
      ],
      "execution_count": 0,
      "outputs": []
    },
    {
      "cell_type": "markdown",
      "metadata": {
        "id": "_-FwF14TyvvB",
        "colab_type": "text"
      },
      "source": [
        "How Many Total Trials (rows) are in the study?"
      ]
    },
    {
      "cell_type": "code",
      "metadata": {
        "id": "b1xFzXNNyvvC",
        "colab_type": "code",
        "colab": {}
      },
      "source": [
        ""
      ],
      "execution_count": 0,
      "outputs": []
    },
    {
      "cell_type": "markdown",
      "metadata": {
        "id": "ccNkkE9vyvvG",
        "colab_type": "text"
      },
      "source": [
        "What is the maximum number of trials that one subject performed?"
      ]
    },
    {
      "cell_type": "markdown",
      "metadata": {
        "id": "29gD9HUWyvvG",
        "colab_type": "text"
      },
      "source": [
        ""
      ]
    },
    {
      "cell_type": "markdown",
      "metadata": {
        "id": "5JRaJHM8yvvH",
        "colab_type": "text"
      },
      "source": [
        "### Making New Columns"
      ]
    },
    {
      "cell_type": "markdown",
      "metadata": {
        "id": "53lWqvN8yvvI",
        "colab_type": "text"
      },
      "source": [
        "Convert the Time column to seconds by dividing it by 1000."
      ]
    },
    {
      "cell_type": "code",
      "metadata": {
        "id": "g9KH42X5yvvJ",
        "colab_type": "code",
        "colab": {}
      },
      "source": [
        ""
      ],
      "execution_count": 0,
      "outputs": []
    },
    {
      "cell_type": "markdown",
      "metadata": {
        "id": "ASH2PARnyvvL",
        "colab_type": "text"
      },
      "source": [
        "Change the \"Correct\" column to *bool* (True/False) using the **astype()** method"
      ]
    },
    {
      "cell_type": "code",
      "metadata": {
        "id": "zoHIWIO1yvvM",
        "colab_type": "code",
        "colab": {}
      },
      "source": [
        ""
      ],
      "execution_count": 0,
      "outputs": []
    },
    {
      "cell_type": "markdown",
      "metadata": {
        "id": "8Whwo2mFyvvN",
        "colab_type": "text"
      },
      "source": [
        "### The mean() method"
      ]
    },
    {
      "cell_type": "markdown",
      "metadata": {
        "id": "DhRx9GsJyvvO",
        "colab_type": "text"
      },
      "source": [
        "What is the mean response time, across all trials?"
      ]
    },
    {
      "cell_type": "code",
      "metadata": {
        "id": "-3uVTBdmyvvO",
        "colab_type": "code",
        "colab": {}
      },
      "source": [
        ""
      ],
      "execution_count": 0,
      "outputs": []
    },
    {
      "cell_type": "markdown",
      "metadata": {
        "id": "XC8heYU3yvvQ",
        "colab_type": "text"
      },
      "source": [
        "What percent of trials were answered correctly?"
      ]
    },
    {
      "cell_type": "code",
      "metadata": {
        "id": "wlKMpEWZyvvR",
        "colab_type": "code",
        "colab": {}
      },
      "source": [
        ""
      ],
      "execution_count": 0,
      "outputs": []
    },
    {
      "cell_type": "markdown",
      "metadata": {
        "id": "ExtOsFhzyvvS",
        "colab_type": "text"
      },
      "source": [
        "What percent of trials were “Matching” trials?"
      ]
    },
    {
      "cell_type": "code",
      "metadata": {
        "id": "5mil3Z5OyvvU",
        "colab_type": "code",
        "colab": {}
      },
      "source": [
        ""
      ],
      "execution_count": 0,
      "outputs": []
    },
    {
      "cell_type": "markdown",
      "metadata": {
        "id": "_J0g5pVRyvvW",
        "colab_type": "text"
      },
      "source": [
        "### Slicing"
      ]
    },
    {
      "cell_type": "markdown",
      "metadata": {
        "id": "2Af-v270yvvX",
        "colab_type": "text"
      },
      "source": [
        "Is there a difference in accuracy between matching and non-matching trials?"
      ]
    },
    {
      "cell_type": "code",
      "metadata": {
        "id": "x5-NIOlcyvvX",
        "colab_type": "code",
        "colab": {}
      },
      "source": [
        ""
      ],
      "execution_count": 0,
      "outputs": []
    },
    {
      "cell_type": "markdown",
      "metadata": {
        "id": "hdOJvfA6yvvZ",
        "colab_type": "text"
      },
      "source": [
        "Is there a response time difference between matching and nonmatching\n",
        "trials?"
      ]
    },
    {
      "cell_type": "code",
      "metadata": {
        "id": "k_UstwztyvvZ",
        "colab_type": "code",
        "colab": {}
      },
      "source": [
        ""
      ],
      "execution_count": 0,
      "outputs": []
    },
    {
      "cell_type": "markdown",
      "metadata": {
        "id": "MBqhqo9uyvvd",
        "colab_type": "text"
      },
      "source": [
        "Is there a response time difference between matching and nonmatching trials, for different rotation Angles?"
      ]
    },
    {
      "cell_type": "code",
      "metadata": {
        "id": "uLgnm8-Hyvve",
        "colab_type": "code",
        "colab": {}
      },
      "source": [
        ""
      ],
      "execution_count": 0,
      "outputs": []
    },
    {
      "cell_type": "markdown",
      "metadata": {
        "id": "5sW7oYvGyvvg",
        "colab_type": "text"
      },
      "source": [
        "### Plotting"
      ]
    },
    {
      "cell_type": "markdown",
      "metadata": {
        "id": "OL3OGXNRyvvi",
        "colab_type": "text"
      },
      "source": [
        "Plot the response time distribution as a histogram."
      ]
    },
    {
      "cell_type": "code",
      "metadata": {
        "id": "WgYogP31yvvj",
        "colab_type": "code",
        "colab": {}
      },
      "source": [
        ""
      ],
      "execution_count": 0,
      "outputs": []
    },
    {
      "cell_type": "markdown",
      "metadata": {
        "id": "5WZsiY5Tyvvm",
        "colab_type": "text"
      },
      "source": [
        "Plot the average response time for each stimulus category (matching and non-matching)"
      ]
    },
    {
      "cell_type": "code",
      "metadata": {
        "id": "0lPIHpNNyvvm",
        "colab_type": "code",
        "colab": {}
      },
      "source": [
        ""
      ],
      "execution_count": 0,
      "outputs": []
    },
    {
      "cell_type": "markdown",
      "metadata": {
        "id": "eQrj9fyOyvvp",
        "colab_type": "text"
      },
      "source": [
        "Is there a correlation between Angle of mental rotation and response time?  Visualize the relationship"
      ]
    },
    {
      "cell_type": "code",
      "metadata": {
        "id": "81rdGfsGyvvp",
        "colab_type": "code",
        "colab": {}
      },
      "source": [
        ""
      ],
      "execution_count": 0,
      "outputs": []
    },
    {
      "cell_type": "markdown",
      "metadata": {
        "id": "-oUbv8QVyvvr",
        "colab_type": "text"
      },
      "source": [
        "Is there a difference in the relationship between Angle of mental rotation and response time, between stimulus categories?"
      ]
    },
    {
      "cell_type": "code",
      "metadata": {
        "id": "5eoJa1O-yvvr",
        "colab_type": "code",
        "colab": {}
      },
      "source": [
        ""
      ],
      "execution_count": 0,
      "outputs": []
    }
  ]
}